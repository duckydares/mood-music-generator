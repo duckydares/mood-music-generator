{
 "cells": [
  {
   "cell_type": "code",
   "execution_count": 1,
   "metadata": {},
   "outputs": [],
   "source": [
    "# Debug file to determining how to clean the original dataframe\n",
    "import yaml\n",
    "import pandas as pd"
   ]
  },
  {
   "cell_type": "code",
   "execution_count": 8,
   "metadata": {},
   "outputs": [
    {
     "data": {
      "text/html": [
       "<div>\n",
       "<style scoped>\n",
       "    .dataframe tbody tr th:only-of-type {\n",
       "        vertical-align: middle;\n",
       "    }\n",
       "\n",
       "    .dataframe tbody tr th {\n",
       "        vertical-align: top;\n",
       "    }\n",
       "\n",
       "    .dataframe thead th {\n",
       "        text-align: right;\n",
       "    }\n",
       "</style>\n",
       "<table border=\"1\" class=\"dataframe\">\n",
       "  <thead>\n",
       "    <tr style=\"text-align: right;\">\n",
       "      <th></th>\n",
       "      <th>added_at</th>\n",
       "      <th>album</th>\n",
       "    </tr>\n",
       "  </thead>\n",
       "  <tbody>\n",
       "    <tr>\n",
       "      <th>album_type</th>\n",
       "      <td>2022-02-23T00:44:21Z</td>\n",
       "      <td>album</td>\n",
       "    </tr>\n",
       "    <tr>\n",
       "      <th>artists</th>\n",
       "      <td>2022-02-23T00:44:21Z</td>\n",
       "      <td>[{'external_urls': {'spotify': 'https://open.s...</td>\n",
       "    </tr>\n",
       "    <tr>\n",
       "      <th>available_markets</th>\n",
       "      <td>2022-02-23T00:44:21Z</td>\n",
       "      <td>[AD, AE, AG, AL, AM, AO, AR, AT, AU, AZ, BA, B...</td>\n",
       "    </tr>\n",
       "    <tr>\n",
       "      <th>copyrights</th>\n",
       "      <td>2022-02-23T00:44:21Z</td>\n",
       "      <td>[{'text': '2021 Rough Trade Records Ltd', 'typ...</td>\n",
       "    </tr>\n",
       "    <tr>\n",
       "      <th>external_ids</th>\n",
       "      <td>2022-02-23T00:44:21Z</td>\n",
       "      <td>{'upc': '191402025354'}</td>\n",
       "    </tr>\n",
       "    <tr>\n",
       "      <th>...</th>\n",
       "      <td>...</td>\n",
       "      <td>...</td>\n",
       "    </tr>\n",
       "    <tr>\n",
       "      <th>release_date_precision</th>\n",
       "      <td>2022-02-09T17:14:32Z</td>\n",
       "      <td>day</td>\n",
       "    </tr>\n",
       "    <tr>\n",
       "      <th>total_tracks</th>\n",
       "      <td>2022-02-09T17:14:32Z</td>\n",
       "      <td>6</td>\n",
       "    </tr>\n",
       "    <tr>\n",
       "      <th>tracks</th>\n",
       "      <td>2022-02-09T17:14:32Z</td>\n",
       "      <td>{'href': 'https://api.spotify.com/v1/albums/5L...</td>\n",
       "    </tr>\n",
       "    <tr>\n",
       "      <th>type</th>\n",
       "      <td>2022-02-09T17:14:32Z</td>\n",
       "      <td>album</td>\n",
       "    </tr>\n",
       "    <tr>\n",
       "      <th>uri</th>\n",
       "      <td>2022-02-09T17:14:32Z</td>\n",
       "      <td>spotify:album:5LDbuCFCZj6skdFHueyuWw</td>\n",
       "    </tr>\n",
       "  </tbody>\n",
       "</table>\n",
       "<p>950 rows × 2 columns</p>\n",
       "</div>"
      ],
      "text/plain": [
       "                                    added_at  \\\n",
       "album_type              2022-02-23T00:44:21Z   \n",
       "artists                 2022-02-23T00:44:21Z   \n",
       "available_markets       2022-02-23T00:44:21Z   \n",
       "copyrights              2022-02-23T00:44:21Z   \n",
       "external_ids            2022-02-23T00:44:21Z   \n",
       "...                                      ...   \n",
       "release_date_precision  2022-02-09T17:14:32Z   \n",
       "total_tracks            2022-02-09T17:14:32Z   \n",
       "tracks                  2022-02-09T17:14:32Z   \n",
       "type                    2022-02-09T17:14:32Z   \n",
       "uri                     2022-02-09T17:14:32Z   \n",
       "\n",
       "                                                                    album  \n",
       "album_type                                                          album  \n",
       "artists                 [{'external_urls': {'spotify': 'https://open.s...  \n",
       "available_markets       [AD, AE, AG, AL, AM, AO, AR, AT, AU, AZ, BA, B...  \n",
       "copyrights              [{'text': '2021 Rough Trade Records Ltd', 'typ...  \n",
       "external_ids                                      {'upc': '191402025354'}  \n",
       "...                                                                   ...  \n",
       "release_date_precision                                                day  \n",
       "total_tracks                                                            6  \n",
       "tracks                  {'href': 'https://api.spotify.com/v1/albums/5L...  \n",
       "type                                                                album  \n",
       "uri                                  spotify:album:5LDbuCFCZj6skdFHueyuWw  \n",
       "\n",
       "[950 rows x 2 columns]"
      ]
     },
     "execution_count": 8,
     "metadata": {},
     "output_type": "execute_result"
    }
   ],
   "source": [
    "# Load data\n",
    "with open('album_data.yaml', 'r') as file:\n",
    "    album_data = yaml.load(file, yaml.CLoader)\n",
    "album_data"
   ]
  },
  {
   "cell_type": "code",
   "execution_count": 11,
   "metadata": {},
   "outputs": [
    {
     "data": {
      "text/plain": [
       "album_type                                                            album\n",
       "artists                   [{'external_urls': {'spotify': 'https://open.s...\n",
       "available_markets         [AD, AE, AG, AL, AM, AO, AR, AT, AU, AZ, BA, B...\n",
       "copyrights                [{'text': '2021 Rough Trade Records Ltd', 'typ...\n",
       "external_ids                                        {'upc': '191402025354'}\n",
       "                                                ...                        \n",
       "release_date_precision                                                  day\n",
       "total_tracks                                                              6\n",
       "tracks                    {'href': 'https://api.spotify.com/v1/albums/5L...\n",
       "type                                                                  album\n",
       "uri                                    spotify:album:5LDbuCFCZj6skdFHueyuWw\n",
       "Name: album, Length: 950, dtype: object"
      ]
     },
     "execution_count": 11,
     "metadata": {},
     "output_type": "execute_result"
    }
   ],
   "source": [
    "# Clean DataFrame\n",
    "album_df = album_data['album']\n",
    "album_df"
   ]
  },
  {
   "cell_type": "code",
   "execution_count": null,
   "metadata": {},
   "outputs": [],
   "source": []
  }
 ],
 "metadata": {
  "interpreter": {
   "hash": "3c9878b2844bd980bcf8ed4df61a39c337dff2b863b89deb15c834e44faa8b47"
  },
  "kernelspec": {
   "display_name": "Python 3.8.10 64-bit ('mood-music': venv)",
   "name": "python3"
  },
  "language_info": {
   "codemirror_mode": {
    "name": "ipython",
    "version": 3
   },
   "file_extension": ".py",
   "mimetype": "text/x-python",
   "name": "python",
   "nbconvert_exporter": "python",
   "pygments_lexer": "ipython3",
   "version": "3.8.10"
  },
  "orig_nbformat": 4
 },
 "nbformat": 4,
 "nbformat_minor": 2
}
